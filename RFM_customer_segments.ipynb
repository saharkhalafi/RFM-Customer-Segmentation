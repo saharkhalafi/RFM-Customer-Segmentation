{
  "nbformat": 4,
  "nbformat_minor": 0,
  "metadata": {
    "colab": {
      "provenance": []
    },
    "kernelspec": {
      "name": "python3",
      "display_name": "Python 3"
    },
    "language_info": {
      "name": "python"
    }
  },
  "cells": [
    {
      "cell_type": "markdown",
      "source": [
        "Calculating Recency"
      ],
      "metadata": {
        "id": "ubapLSiIzpEd"
      }
    },
    {
      "cell_type": "code",
      "source": [
        "df['last_purchase_date'] = df.groupby('CustomerId')['Created_At'].transform(max)\n",
        "df['last_purchase_date'] = pd.to_datetime(df['last_purchase_date']).dt.date"
      ],
      "metadata": {
        "id": "ABuqVhPEzq3B"
      },
      "execution_count": null,
      "outputs": []
    },
    {
      "cell_type": "code",
      "source": [
        "df['last_purchase_date'] = pd.to_datetime(df['last_purchase_date'])\n",
        "df['invoicedate'] = pd.to_datetime(df['Created_At'])"
      ],
      "metadata": {
        "id": "ijbSuP2Vzt4Z"
      },
      "execution_count": null,
      "outputs": []
    },
    {
      "cell_type": "code",
      "source": [
        "df['ref_date'] = df['invoicedate'].max() + timedelta(days=7)\n",
        "df['ref_date'] = df['ref_date'].dt.date\n",
        "df['ref_date'] = pd.to_datetime(df['ref_date'])\n",
        "df['date'] = pd.to_datetime(df['invoicedate'])\n",
        "df['date'] = df['date'].dt.date\n",
        "df.sample(10)"
      ],
      "metadata": {
        "id": "S2raqMQ0z93Y"
      },
      "execution_count": null,
      "outputs": []
    },
    {
      "cell_type": "code",
      "source": [
        "customer_recency = pd.DataFrame(df.groupby('CustomerId', as_index=False).date.max())\n",
        "customer_recency.head()"
      ],
      "metadata": {
        "id": "fwa8pf0G0C2J"
      },
      "execution_count": null,
      "outputs": []
    },
    {
      "cell_type": "code",
      "source": [
        "df[\"customer_recency\"] = df[\"ref_date\"] - df[\"last_purchase_date\"]\n",
        "df[[\"CustomerId\", 'last_purchase_date', \"ref_date\", \"customer_recency\"]]"
      ],
      "metadata": {
        "id": "BE-Pvj4r0SIg"
      },
      "execution_count": null,
      "outputs": []
    },
    {
      "cell_type": "code",
      "source": [
        "df['recency2'] = pd.to_numeric(df['customer_recency'].dt.days.astype('int64'))\n",
        "df[[\"CustomerId\", 'last_purchase_date', \"ref_date\", \"customer_recency\", 'recency2']]"
      ],
      "metadata": {
        "id": "7Qby5dJU0UzP"
      },
      "execution_count": null,
      "outputs": []
    },
    {
      "cell_type": "code",
      "source": [
        "customer_recency = df.groupby('CustomerId', as_index=False)['recency2'].mean()\n",
        "customer_recency.rename(columns={'recency2':'Recency'}, inplace=True)\n",
        "customer_recency.sort_values(by='Recency', ascending=False).head()"
      ],
      "metadata": {
        "id": "lmBOXWg70Wu_"
      },
      "execution_count": null,
      "outputs": []
    },
    {
      "cell_type": "markdown",
      "source": [
        "Calculating Frequency"
      ],
      "metadata": {
        "id": "rEzNlM3c0gQf"
      }
    },
    {
      "cell_type": "code",
      "source": [
        "customer_frequency = df_copy.groupby('CustomerId', as_index=False)['orderIncrementId'].nunique()\n",
        "customer_frequency.rename(columns={'orderIncrementId':'Frequency'}, inplace=True)\n",
        "customer_frequency.sort_values(by='Frequency', ascending=False)"
      ],
      "metadata": {
        "id": "43ZiEG6L0mPH"
      },
      "execution_count": null,
      "outputs": []
    },
    {
      "cell_type": "markdown",
      "source": [
        "Calculating Monetary"
      ],
      "metadata": {
        "id": "AuHp76mf00tv"
      }
    },
    {
      "cell_type": "code",
      "source": [
        "customer_monetary = df_copy.groupby('CustomerId', as_index=False)['Sum of PriceInclTax'].sum()\n",
        "customer_monetary.rename(columns={'Sum of PriceInclTax':'Monetary'}, inplace=True)\n",
        "customer_monetary.sort_values(by='Monetary', ascending=False).head()"
      ],
      "metadata": {
        "id": "TiSH2oVh0x4O"
      },
      "execution_count": null,
      "outputs": []
    },
    {
      "cell_type": "markdown",
      "source": [
        "delete outliers"
      ],
      "metadata": {
        "id": "ECyMx1RvMleO"
      }
    },
    {
      "cell_type": "code",
      "source": [
        "Q1 = customer_rfm['Monetary'].quantile(0.25)\n",
        "Q3 = customer_rfm['Monetary'].quantile(0.75)\n",
        "IQR = Q3 - Q1\n",
        "lower_bound = Q1 - 1.5 * IQR\n",
        "upper_bound = Q3 + 1.5 * IQR\n",
        "\n",
        "\n",
        "customer_rfm = customer_rfm[(customer_rfm['Monetary'] >= lower_bound) & (customer_rfm['Monetary'] <= upper_bound)]\n",
        "\n",
        "\n",
        "Q1 = customer_rfm['Frequency'].quantile(0.25)\n",
        "Q3 = customer_rfm['Frequency'].quantile(0.75)\n",
        "IQR = Q3 - Q1\n",
        "lower_bound = Q1 - 1.5 * IQR\n",
        "upper_bound = Q3 + 1.5 * IQR\n",
        "\n",
        "\n",
        "customer_rfm = customer_rfm[(customer_rfm['Frequency'] >= lower_bound) & (customer_rfm['Frequency'] <= upper_bound)]\n",
        "\n"
      ],
      "metadata": {
        "id": "VexK7ax2MuBv"
      },
      "execution_count": null,
      "outputs": []
    },
    {
      "cell_type": "markdown",
      "source": [
        "Creating RFM Table"
      ],
      "metadata": {
        "id": "2ONsXe921BF4"
      }
    },
    {
      "cell_type": "code",
      "source": [
        "customer_rfm = pd.merge(pd.merge(customer_recency, customer_frequency, on='CustomerId'), customer_monetary, on='CustomerId')\n",
        "customer_rfm.head()"
      ],
      "metadata": {
        "id": "BQZPbCEd05_W"
      },
      "execution_count": null,
      "outputs": []
    },
    {
      "cell_type": "code",
      "source": [
        "quantiles = customer_rfm.quantile(q = [0.25, 0.50, 0.75])\n",
        "quantiles"
      ],
      "metadata": {
        "id": "dgxeb03B1Dym"
      },
      "execution_count": null,
      "outputs": []
    },
    {
      "cell_type": "code",
      "source": [
        "def recency_scoring(rfm):\n",
        "    if rfm.Recency <= #put value of 0.25 quantiles\n",
        "        recency_score = 4\n",
        "    elif rfm.Recency <= #put value of 0.50 quantiles\n",
        "        recency_score = 3\n",
        "    elif rfm.Recency <= #put value of 0.75 quantiles\n",
        "        recency_score = 2\n",
        "    else:\n",
        "        recency_score = 1\n",
        "    return recency_score\n",
        "\n",
        "customer_rfm['Recency_Score'] = customer_rfm.apply(recency_scoring, axis=1)\n",
        "customer_rfm.sample(10)"
      ],
      "metadata": {
        "id": "BIoXXegW1F6J"
      },
      "execution_count": null,
      "outputs": []
    },
    {
      "cell_type": "code",
      "source": [
        "def frequency_scoring(rfm):\n",
        "    if rfm.Frequency >= #put value of quantiles\n",
        "        frequency_score = 2\n",
        "    else:\n",
        "        frequency_score = 1\n",
        "    return frequency_score\n",
        "\n",
        "customer_rfm['Frequency_Score'] = customer_rfm.apply(frequency_scoring, axis=1)\n",
        "customer_rfm.sample(10)"
      ],
      "metadata": {
        "id": "SFjVKeLK1h1n"
      },
      "execution_count": null,
      "outputs": []
    },
    {
      "cell_type": "code",
      "source": [
        "def frequency_scoring(rfm):\n",
        "    if rfm.Frequency >= #put value of quantiles\n",
        "        frequency_score = 2\n",
        "    else:\n",
        "        frequency_score = 1\n",
        "    return frequency_score\n",
        "\n",
        "customer_rfm['Frequency_Score'] = customer_rfm.apply(frequency_scoring, axis=1)\n",
        "customer_rfm.sample(10)"
      ],
      "metadata": {
        "id": "YChRUGt61tTG"
      },
      "execution_count": null,
      "outputs": []
    },
    {
      "cell_type": "code",
      "source": [
        "def monetary_scoring(rfm):\n",
        "    if rfm.Monetary >= #put value of 0.75 quantiles\n",
        "        monetary_score = 4\n",
        "    elif rfm.Monetary >= #put value of 0.50 quantiles\n",
        "        monetary_score = 3\n",
        "    elif rfm.Monetary >= #put value of 0.25 quantiles\n",
        "        monetary_score = 2\n",
        "    else:\n",
        "        monetary_score = 1\n",
        "    return monetary_score\n",
        "\n",
        "customer_rfm['Monetary_Score'] = customer_rfm.apply(monetary_scoring, axis=1)\n",
        "customer_rfm.sample(10)"
      ],
      "metadata": {
        "id": "lYpD5m2P15cF"
      },
      "execution_count": null,
      "outputs": []
    },
    {
      "cell_type": "code",
      "source": [
        "def rfm_scoring(customer):\n",
        "    return str(int(customer['Recency_Score'])) + str(int(customer['Frequency_Score'])) + str(int(customer['Monetary_Score']))\n",
        "\n",
        "\n",
        "customer_rfm['Customer_RFM_Score'] = customer_rfm.apply(rfm_scoring, axis=1)\n",
        "customer_rfm.sample(8)"
      ],
      "metadata": {
        "id": "h-FcUvxE2WxM"
      },
      "execution_count": null,
      "outputs": []
    },
    {
      "cell_type": "code",
      "source": [
        "customer_rfm['RFM_Label'] = customer_rfm['Recency_Score'] + customer_rfm['Frequency_Score'] + customer_rfm['Monetary_Score']\n",
        "\n",
        "customer_rfm.sample(8)"
      ],
      "metadata": {
        "id": "65diJfm82XVC"
      },
      "execution_count": null,
      "outputs": []
    },
    {
      "cell_type": "code",
      "source": [
        "segments = {'Customer_Segment':['Champion',\n",
        "                                'Top Loyal Customer',\n",
        "                                'Loyal Customer',\n",
        "                                'Top Recent Customer',\n",
        "                                'Recent Customer',\n",
        "                                'Top Customer Needed Attention',\n",
        "                                'Customer Needed Attention',\n",
        "                                'Top Lost Customer',\n",
        "                                'Lost Customer'],\n",
        "            'RFM':['(2|3|4)-(4)-(4)',\n",
        "                   '(3)-(1|2|3|4)-(3|4)',\n",
        "                   '(3)-(1|2|3|4)-(1|2)',\n",
        "                   '(4)-(1|2|3|4)-(3|4)',\n",
        "                   '(4)-(1|2|3|4)-(1|2)',\n",
        "                   '(2|3)-(1|2|3|4)-(3|4)',\n",
        "                   '(2|3)-(1|2|3|4)-(1|2)',\n",
        "                   '(1)-(1|2|3|4)-(3|4)',\n",
        "                   '(1)-(1|2|3|4)-(1|2)',]}\n",
        "\n",
        "pd.DataFrame(segments)"
      ],
      "metadata": {
        "id": "ei1vleL82q-k"
      },
      "execution_count": null,
      "outputs": []
    },
    {
      "cell_type": "code",
      "source": [
        "def categorizer(rfm):\n",
        "\n",
        "    if (rfm[0] in ['2', '3', '4']) & (rfm[1] in ['4']) & (rfm[2] in ['4']):\n",
        "        rfm = 'Champion'\n",
        "\n",
        "    elif (rfm[0] in ['3']) & (rfm[1] in ['1', '2', '3', '4']) & (rfm[2] in ['3', '4']):\n",
        "        rfm = 'Top Loyal Customer'\n",
        "\n",
        "    elif (rfm[0] in ['3']) & (rfm[1] in ['1', '2', '3', '4']) & (rfm[2] in ['1', '2']):\n",
        "        rfm = 'Loyal Customer'\n",
        "\n",
        "    elif (rfm[0] in ['4']) & (rfm[1] in ['1', '2', '3', '4']) & (rfm[2] in ['3', '4']):\n",
        "        rfm = 'Top Recent Customer'\n",
        "\n",
        "    elif (rfm[0] in ['4']) & (rfm[1] in ['1', '2', '3', '4']) & (rfm[2] in ['1', '2']):\n",
        "        rfm = 'Recent Customer'\n",
        "\n",
        "    elif (rfm[0] in ['2', '3']) & (rfm[1] in ['1', '2', '3', '4']) & (rfm[2] in ['3', '4']):\n",
        "        rfm = 'Top Customer Needed Attention'\n",
        "\n",
        "    elif (rfm[0] in ['2', '3']) & (rfm[1] in ['1', '2', '3', '4']) & (rfm[2] in ['1', '2']):\n",
        "        rfm = 'Customer Needed Attention'\n",
        "\n",
        "    elif (rfm[0] in ['1']) & (rfm[1] in ['1', '2', '3', '4']) & (rfm[2] in ['3', '4']):\n",
        "        rfm = 'Top Lost Customer'\n",
        "\n",
        "    elif (rfm[0] in ['1']) & (rfm[1] in ['1', '2', '3', '4']) & (rfm[2] in ['1', '2']):\n",
        "        rfm = 'Lost Customer'\n",
        "\n",
        "    return rfm"
      ],
      "metadata": {
        "id": "kWR_utq12rie"
      },
      "execution_count": null,
      "outputs": []
    },
    {
      "cell_type": "code",
      "source": [
        "customer_rfm['Customer_Category'] = customer_rfm[\"Customer_RFM_Score\"].apply(categorizer)\n",
        "customer_rfm"
      ],
      "metadata": {
        "id": "TQuGnccN2uuc"
      },
      "execution_count": null,
      "outputs": []
    }
  ]
}